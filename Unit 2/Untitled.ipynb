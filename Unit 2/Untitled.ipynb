{
 "cells": [
  {
   "cell_type": "code",
   "execution_count": null,
   "id": "21eca9da-0a91-4f24-9dfc-c87f340c468d",
   "metadata": {},
   "outputs": [],
   "source": [
    "class Component:\n",
    "    def __init__(self):\n",
    "        print(\"Component Object has been created.\")\n",
    "    \n",
    "    def method(self):\n",
    "        print(\"Methhod of Comp Object has been created.\")"
   ]
  },
  {
   "cell_type": "code",
   "execution_count": null,
   "id": "d53cf347-ec50-42f4-8275-4b3501e5e6a8",
   "metadata": {},
   "outputs": [],
   "source": [
    "class Composite:\n",
    "    def __init__(self):\n",
    "        print(\"Composite Object has been created.\")\n",
    "        self.comp = Component()\n",
    "    \n",
    "    def method(self):\n",
    "        print(\"Methhod of Comp Object has been created.\")\n",
    "        self.comp.method()"
   ]
  },
  {
   "cell_type": "markdown",
   "id": "ae2db3ec-c92c-4b4f-8a8d-ebc603efa881",
   "metadata": {},
   "source": [
    "### Multiple Composition"
   ]
  },
  {
   "cell_type": "code",
   "execution_count": null,
   "id": "881041fe-fe99-44c9-ab2c-121368ff4491",
   "metadata": {},
   "outputs": [],
   "source": [
    "class Engine:\n",
    "    def __init__(self):\n",
    "        print(\"This is an Engine.\")\n",
    "    def start(self):\n",
    "        print(\"Vroooom Vrooom\")"
   ]
  }
 ],
 "metadata": {
  "kernelspec": {
   "display_name": "Python 3 (ipykernel)",
   "language": "python",
   "name": "python3"
  },
  "language_info": {
   "codemirror_mode": {
    "name": "ipython",
    "version": 3
   },
   "file_extension": ".py",
   "mimetype": "text/x-python",
   "name": "python",
   "nbconvert_exporter": "python",
   "pygments_lexer": "ipython3",
   "version": "3.12.0"
  }
 },
 "nbformat": 4,
 "nbformat_minor": 5
}
